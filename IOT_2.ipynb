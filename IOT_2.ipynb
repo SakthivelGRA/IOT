{
 "cells": [
  {
   "cell_type": "code",
   "execution_count": 5,
   "id": "387cdadc",
   "metadata": {},
   "outputs": [
    {
     "name": "stdout",
     "output_type": "stream",
     "text": [
      "             Unnamed: 1  temperature\n",
      "date                                \n",
      "2024-02-01  temperature           21\n",
      "2024-02-02  temperature           21\n",
      "2024-02-03  temperature           21\n",
      "2024-02-04  temperature           21\n",
      "2024-02-05  temperature           23\n",
      "2024-02-06  temperature           23\n",
      "2024-02-07  temperature           23\n",
      "2024-02-08  temperature           25\n",
      "2024-02-09  temperature           24\n",
      "2024-02-10  temperature           25\n",
      "2024-02-11  temperature           25\n",
      "2024-02-12  temperature           28\n",
      "2024-02-13  temperature           25\n",
      "2024-02-14  temperature           25\n",
      "2024-02-15  temperature           25\n",
      "2024-02-16  temperature           25\n",
      "2024-02-17  temperature           30\n",
      "2024-02-18  temperature           25\n",
      "2024-02-19  temperature           29\n",
      "2024-02-20  temperature           25\n",
      "2024-02-21  temperature           15\n",
      "2024-02-22  temperature           25\n",
      "2024-02-23  temperature           25\n",
      "2024-02-24  temperature           18\n",
      "2024-02-25  temperature           25\n",
      "2024-02-26  temperature           25\n",
      "2024-02-27  temperature           25\n",
      "2024-02-28  temperature           25\n",
      "2024-02-29  temperature           25\n",
      "2024-03-01  temperature           25\n",
      "2024-03-02  temperature           25\n",
      "2024-03-03  temperature           25\n",
      "2024-03-04  temperature           25\n",
      "2024-03-05  temperature           25\n",
      "2024-03-06  temperature           25\n",
      "2024-03-07  temperature           22\n",
      "2024-03-08  temperature           27\n",
      "2024-03-09  temperature           29\n",
      "2024-03-10  temperature           23\n",
      "2024-03-11  temperature           26\n",
      "2024-03-12  temperature           25\n",
      "2024-03-13  temperature           25\n",
      "2024-03-14  temperature           25\n"
     ]
    }
   ],
   "source": [
    "import pandas as pd \n",
    "\n",
    "shared_link='https://docs.google.com/spreadsheets/d/1rM05vAK8DGr0BgAW0AvLGWgC8ryTE8Pm/edit?usp=sharing&ouid=113964186664904145794&rtpof=true&sd=true'\n",
    "\n",
    "url=shared_link.replace(\"/edit?usp=sharing\", \"/export?format=xlsx\")\n",
    "\n",
    "content=pd.read_excel(url)\n",
    "\n",
    "content['date']=pd.to_datetime(content['date'])\n",
    "content.set_index('date',inplace=True)\n",
    "\n",
    "print(content)\n",
    "\n",
    "\n",
    "                                "
   ]
  },
  {
   "cell_type": "code",
   "execution_count": 7,
   "id": "9857994c",
   "metadata": {},
   "outputs": [
    {
     "name": "stdout",
     "output_type": "stream",
     "text": [
      "             Unnamed: 1  temperature\n",
      "date                                \n",
      "2024-02-01  temperature           21\n",
      "2024-02-02  temperature           21\n",
      "2024-02-03  temperature           21\n",
      "2024-02-04  temperature           21\n",
      "2024-02-05  temperature           23\n",
      "2024-02-06  temperature           23\n",
      "2024-02-07  temperature           23\n",
      "2024-02-08  temperature           25\n",
      "2024-02-09  temperature           24\n",
      "2024-02-10  temperature           25\n",
      "2024-02-11  temperature           25\n",
      "2024-02-12  temperature           28\n",
      "2024-02-13  temperature           25\n",
      "2024-02-14  temperature           25\n",
      "2024-02-15  temperature           25\n",
      "2024-02-16  temperature           25\n",
      "2024-02-17  temperature           30\n",
      "2024-02-18  temperature           25\n",
      "2024-02-19  temperature           29\n",
      "2024-02-20  temperature           25\n",
      "2024-02-21  temperature           15\n",
      "2024-02-22  temperature           25\n",
      "2024-02-23  temperature           25\n",
      "2024-02-24  temperature           18\n",
      "2024-02-25  temperature           25\n",
      "2024-02-26  temperature           25\n",
      "2024-02-27  temperature           25\n",
      "2024-02-28  temperature           25\n",
      "2024-02-29  temperature           25\n",
      "2024-03-01  temperature           25\n",
      "2024-03-02  temperature           25\n",
      "2024-03-03  temperature           25\n",
      "2024-03-04  temperature           25\n",
      "2024-03-05  temperature           25\n",
      "2024-03-06  temperature           25\n",
      "2024-03-07  temperature           22\n",
      "2024-03-08  temperature           27\n",
      "2024-03-09  temperature           29\n",
      "2024-03-10  temperature           23\n",
      "2024-03-11  temperature           26\n",
      "2024-03-12  temperature           25\n",
      "2024-03-13  temperature           25\n",
      "2024-03-14  temperature           25\n"
     ]
    },
    {
     "data": {
      "image/png": "[encoded data removed]",
      "text/plain": [
       "<Figure size 640x480 with 1 Axes>"
      ]
     },
     "metadata": {},
     "output_type": "display_data"
    }
   ],
   "source": [
    "import pandas as pd\n",
    "import matplotlib.pyplot as plt\n",
    "\n",
    "shared_link='https://docs.google.com/spreadsheets/d/1rM05vAK8DGr0BgAW0AvLGWgC8ryTE8Pm/edit?usp=sharing&ouid=113964186664904145794&rtpof=true&sd=true'\n",
    "\n",
    "url=shared_link.replace(\"/edit?usp=sharing\", \"/export?format=xlsx\")\n",
    "\n",
    "content=pd.read_excel(url)\n",
    "\n",
    "content['date']=pd.to_datetime(content['date'])\n",
    "content.set_index('date',inplace=True)\n",
    "\n",
    "print(content)\n",
    "\n",
    "plt.bar(content.index,content['temperature'],label='Temperature')\n",
    "plt.title('Temperature Data')\n",
    "plt.xlabel('Date')\n",
    "plt.ylabel('Temperature')\n",
    "plt.xticks(rotation=40)\n",
    "plt.tight_layout()\n",
    "plt.legend()\n",
    "plt.show()"
   ]
  },
  {
   "cell_type": "code",
   "execution_count": null,
   "id": "27898216",
   "metadata": {},
   "outputs": [],
   "source": []
  }
 ],
 "metadata": {
  "kernelspec": {
   "display_name": "Python 3 (ipykernel)",
   "language": "python",
   "name": "python3"
  },
  "language_info": {
   "codemirror_mode": {
    "name": "ipython",
    "version": 3
   },
   "file_extension": ".py",
   "mimetype": "text/x-python",
   "name": "python",
   "nbconvert_exporter": "python",
   "pygments_lexer": "ipython3",
   "version": "3.11.5"
  }
 },
 "nbformat": 4,
 "nbformat_minor": 5
}
