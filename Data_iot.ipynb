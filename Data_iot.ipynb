{
 "cells": [
  {
   "cell_type": "code",
   "execution_count": 4,
   "id": "c7fa562f",
   "metadata": {},
   "outputs": [
    {
     "name": "stdout",
     "output_type": "stream",
     "text": [
      "         Date      Time  Temperature\n",
      "0  2024-06-04  18-31-35           35\n",
      "Data is added to excel\n"
     ]
    }
   ],
   "source": [
    "import requests\n",
    "import json\n",
    "import pandas as pd\n",
    "from datetime import datetime\n",
    "\n",
    "def get_time():\n",
    "    return datetime.now().strftime('%Y-%m-%d %H-%M-%S')\n",
    "\n",
    "current_datetime= get_time()\n",
    "date, time = current_datetime.split()\n",
    "\n",
    "\n",
    "device_id=\"keerthana_IoT_device\"\n",
    "accessKey=\"ZExieVBxMWUzWklpVUhHWlFMcGM=\"\n",
    "secretKey=\"c2RCMnNRMkZxMTNlNjZyWXl6d2dueE9teFVNbElMeE16dw==\"\n",
    "\n",
    "url = \"https://wizklub.com/api/secured/wiziot-poll-request/\"\n",
    "\n",
    "headers = {\"Api-Access-Key\":accessKey , \"Api-Secret-Key\": secretKey, \"Content-Type\": \"application/json\"}\n",
    "\n",
    "payload_config = json.dumps({\"mode\": \"WRITE\", \"device_id\": device_id, \"source\": \"API\", \"api\": \"sensor\", \"sensor\": \"weather\", \"state\": \"start\"})\n",
    "\n",
    "payload_read = json.dumps({\"mode\": \"READ\", \"device_id\": device_id, \"source\": \"API\", \"api\": \"sensor\", \"sensor\": \"weather\"}) \n",
    "\n",
    "requests.request(\"POST\", url, headers = headers, data = payload_config) #initialize sensor\n",
    "\n",
    "response = requests.request(\"POST\", url, headers= headers, data = payload_read) #read value\n",
    "\n",
    "data = response.json()\n",
    "\n",
    "temp = data ['response']['worker_response']['iot']['value']['temperature']\n",
    "#heat = data ['response']['worker_response']['iot']['value']['heat']\n",
    "#humidity = data ['response']['worker_response']['iot']['value']['humid']\n",
    "#print(\"Temperature = \", temp)\n",
    "#print(\"Humidity = \", humidity)\n",
    "#print(\"Heat = \", heat)\n",
    "\n",
    "table= pd.DataFrame({'Date':[date], 'Time':[time], 'Temperature':[temp]})\n",
    "print(table)\n",
    "\n",
    "excel_file_path =r\"C:\\Users\\sakth\\Downloads\\Book1 datascience.xlsx\"\n",
    "\n",
    "table.to_excel(excel_file_path, index=False)\n",
    "print(\"Data is added to excel\")"
   ]
  },
  {
   "cell_type": "code",
   "execution_count": null,
   "id": "044e9487",
   "metadata": {},
   "outputs": [],
   "source": []
  }
 ],
 "metadata": {
  "kernelspec": {
   "display_name": "Python 3 (ipykernel)",
   "language": "python",
   "name": "python3"
  },
  "language_info": {
   "codemirror_mode": {
    "name": "ipython",
    "version": 3
   },
   "file_extension": ".py",
   "mimetype": "text/x-python",
   "name": "python",
   "nbconvert_exporter": "python",
   "pygments_lexer": "ipython3",
   "version": "3.11.5"
  }
 },
 "nbformat": 4,
 "nbformat_minor": 5
}
